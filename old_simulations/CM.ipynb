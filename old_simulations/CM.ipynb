{
 "cells": [
  {
   "cell_type": "code",
   "execution_count": 1,
   "metadata": {},
   "outputs": [
    {
     "data": {
      "text/plain": [
       "(None, <pyximport._pyximport3.PyxImportMetaFinder at 0x1561192d0>)"
      ]
     },
     "execution_count": 1,
     "metadata": {},
     "output_type": "execute_result"
    }
   ],
   "source": [
    "from sympy import *\n",
    "import numpy as np\n",
    "from itertools import combinations\n",
    "import pandas as pd\n",
    "import numpy as np\n",
    "\n",
    "from direct_lingam.ReLVLiNGAM import *\n",
    "from direct_lingam.simulate_data import *\n",
    "from direct_lingam.DAG import plot_dag\n",
    "import pyximport; pyximport.install(inplace=True)\n"
   ]
  },
  {
   "cell_type": "code",
   "execution_count": 2,
   "metadata": {},
   "outputs": [
    {
     "name": "stdout",
     "output_type": "stream",
     "text": [
      "Lambda is \n",
      " [[0 0 0]\n",
      " [0 0 0]\n",
      " [0 1 0]]\n"
     ]
    },
    {
     "data": {
      "image/png": "[encoded data removed]",
      "text/plain": [
       "<Figure size 400x300 with 1 Axes>"
      ]
     },
     "metadata": {},
     "output_type": "display_data"
    }
   ],
   "source": [
    "Lambda = get_Lambda([(2, 1)], 3)\n",
    "print(f\"Lambda is \\n {Lambda}\")\n",
    "Gamma = np.array([[1, 2], [1, 2], [1, 2]])\n",
    "highest_l = 2\n",
    "plot_dag(np.hstack((Lambda, Gamma))) # Latent nodes are grey"
   ]
  },
  {
   "cell_type": "code",
   "execution_count": 13,
   "metadata": {},
   "outputs": [
    {
     "data": {
      "text/plain": [
       "mappingproxy({'__module__': 'direct_lingam.ReLVLiNGAM',\n",
       "              '__init__': <function direct_lingam.ReLVLiNGAM.ReLVLiNGAM.__init__(self, X, highest_l, verbose=False, only_lowest_order_equations=True, threshold_power=0.125, thresholds=[0.008, 0.8], scale_partly=True)>,\n",
       "              'fit': <function direct_lingam.ReLVLiNGAM.ReLVLiNGAM.fit(self, X)>,\n",
       "              '_estimate_cumulants': <function direct_lingam.ReLVLiNGAM.ReLVLiNGAM._estimate_cumulants(self, X)>,\n",
       "              '_estimate_moments': <function direct_lingam.ReLVLiNGAM.ReLVLiNGAM._estimate_moments(self, X)>,\n",
       "              '_process_last_node': <function direct_lingam.ReLVLiNGAM.ReLVLiNGAM._process_last_node(self, last_node, cumulants)>,\n",
       "              '_form_symbol_to_cumulant_dict': <function direct_lingam.ReLVLiNGAM.ReLVLiNGAM._form_symbol_to_cumulant_dict(self, cumulants, nodes, scale_partly)>,\n",
       "              '_find_source': <function direct_lingam.ReLVLiNGAM.ReLVLiNGAM._find_source(self, remaining_nodes, cumulants)>,\n",
       "              '_corresponding_ratio': <function direct_lingam.ReLVLiNGAM.ReLVLiNGAM._corresponding_ratio(self, potential_source, other_node, all_singular_values, confounders, remaining_nodes)>,\n",
       "              '_ratio_highest_l': <function direct_lingam.ReLVLiNGAM.ReLVLiNGAM._ratio_highest_l(self, potential_source, other_node, all_singular_values)>,\n",
       "              '_calculate_all_singular_values': <function direct_lingam.ReLVLiNGAM.ReLVLiNGAM._calculate_all_singular_values(self, remaining_nodes, cumulants)>,\n",
       "              '_estimate_num_confounders': <function direct_lingam.ReLVLiNGAM.ReLVLiNGAM._estimate_num_confounders(self, potential_source, other_node, all_singular_values)>,\n",
       "              '_estimate_bs': <function direct_lingam.ReLVLiNGAM.ReLVLiNGAM._estimate_bs(self, source, remaining_nodes, cumulants)>,\n",
       "              '_estimate_bij': <function direct_lingam.ReLVLiNGAM.ReLVLiNGAM._estimate_bij(self, j, i, cumulant_dict)>,\n",
       "              '_estimate_marginal_omegas': <function direct_lingam.ReLVLiNGAM.ReLVLiNGAM._estimate_marginal_omegas(self, source, other_node, bs_unmatched, cumulant_dict)>,\n",
       "              '_match_etas': <function direct_lingam.ReLVLiNGAM.ReLVLiNGAM._match_etas(self, remaining_nodes, source, marginal_omegas)>,\n",
       "              '_disentangle_noise': <function direct_lingam.ReLVLiNGAM.ReLVLiNGAM._disentangle_noise(self, descendants_new_latents, matches_latents, marginal_omegas, remaining_nodes)>,\n",
       "              '_identify_nodes_with_same_latents': <function direct_lingam.ReLVLiNGAM.ReLVLiNGAM._identify_nodes_with_same_latents(self, descendants_new_latents, remaining_nodes)>,\n",
       "              '_estimate_omegas_overall_model': <function direct_lingam.ReLVLiNGAM.ReLVLiNGAM._estimate_omegas_overall_model(self, source, parents_source, remaining_nodes, cumulants)>,\n",
       "              '_new_confounders': <function direct_lingam.ReLVLiNGAM.ReLVLiNGAM._new_confounders(self, v, w, new_latents)>,\n",
       "              '_update_cumulants': <function direct_lingam.ReLVLiNGAM.ReLVLiNGAM._update_cumulants(self, cumulants, source, new_latents, remaining_nodes)>,\n",
       "              'get_all_possible_permutations': <function direct_lingam.ReLVLiNGAM.ReLVLiNGAM.get_all_possible_permutations(self)>,\n",
       "              '__dict__': <attribute '__dict__' of 'ReLVLiNGAM' objects>,\n",
       "              '__weakref__': <attribute '__weakref__' of 'ReLVLiNGAM' objects>,\n",
       "              '__doc__': None})"
      ]
     },
     "execution_count": 13,
     "metadata": {},
     "output_type": "execute_result"
    }
   ],
   "source": [
    "ReLVLiNGAM.__dict__"
   ]
  },
  {
   "cell_type": "code",
   "execution_count": 3,
   "metadata": {},
   "outputs": [],
   "source": [
    "from direct_lingam.constraints_to_test import get_constraints_for_l_latents\n",
    "from itertools import permutations\n",
    "class CMLiNGAM(ReLVLiNGAM):\n",
    "    def __init__(self,\n",
    "                 *args,\n",
    "                 **kwargs):\n",
    "        \"\"\"\n",
    "        Initialize the DiDLiNGAM model.\n",
    "\n",
    "        Parameters:\n",
    "        *args: positional arguments\n",
    "        **kwargs: keyword arguments\n",
    "        \"\"\"\n",
    "        super().__init__(*args, **kwargs)\n",
    "        self.cumulants = self._estimate_cumulants(self.X)\n",
    "        self.roots_10 = np.array(sorted(self._get__roots(i=1, j=0), key = lambda x: np.abs(x)))\n",
    "        self.roots_20 = np.array(sorted(self._get__roots(i=2, j=0), key = lambda x: np.abs(x)))\n",
    "        self.roots_21 = np.array(sorted(self._get__roots(i=2, j=1), key = lambda x: np.abs(x)))\n",
    "\n",
    "\n",
    "\n",
    "    def estimate_effect(self, method = \"cumulant\", true_B = None):\n",
    "        \"\"\"\n",
    "        Estimate the causal effect using the specified method.\n",
    "\n",
    "        Parameters:\n",
    "        method (str): The method to use for effect estimation. Can be \"ratio\" or \"cumulant\".\n",
    "\n",
    "        Raises:\n",
    "        ValueError: If the specified method is not supported.\n",
    "        \"\"\"\n",
    "\n",
    "\n",
    "\n",
    "        # match = self._match_marginals(self.roots_20, self.roots_21)\n",
    "        cumulants_10 = self._marginal__cumulants(self.roots_10, j=0, i=1)\n",
    "        cumulants_20 = self._marginal__cumulants(self.roots_20, j=0, i=2)\n",
    "        match = self._match_marginals(cumulants_10[1:], cumulants_20[1:])\n",
    "\n",
    "        roots_ratio = [0] + [self.roots_20[i + 1]/self.roots_10[match[i] + 1] for i in range(self.roots_10.shape[0] - 1)]\n",
    "        match_roots = self._match_marginals(np.array(roots_ratio), self.roots_21)\n",
    "\n",
    "        return self.roots_21[match_roots[0]]\n",
    "\n",
    "\n",
    "    def _get__roots(self, i=1, j=0):\n",
    "        \"\"\"\n",
    "        Get the roots of the polynomial equations for the specified nodes.\n",
    "\n",
    "        Parameters:\n",
    "        i (int): The index of the first node.\n",
    "        j (int): The index of the second node.\n",
    "\n",
    "        Returns:\n",
    "        numpy.ndarray: The roots of the polynomial equations.\n",
    "        \"\"\"\n",
    "        equations_bij = get_constraints_for_l_latents(self.highest_l)[\"equations_bij\"]\n",
    "\n",
    "        eq = equations_bij[0]\n",
    "        specify_nodes = {\n",
    "            sym: symbols(\n",
    "                sym.name[:2] + \"\".join(sorted(sym.name[2:].replace(\"j\", str(j)).replace(\"i\", str(i))))\n",
    "            )\n",
    "            for sym in reduce(set.union, [eq.free_symbols for eq in equations_bij])\n",
    "            if str(sym) != \"b_ij\"\n",
    "        }\n",
    "        symbols_to_cumulants = self._form_symbol_to_cumulant_dict(self.cumulants, [i, j], scale_partly=False)\n",
    "        estimated_coeffs = [float(coeff.subs(specify_nodes).subs(symbols_to_cumulants)) for coeff in eq.all_coeffs()]\n",
    "        if j == 0:\n",
    "            estimated_coeffs[-1] = 0\n",
    "            # print(estimated_coeffs, np.polynomial.Polynomial(estimated_coeffs[::-1]))\n",
    "        roots = np.polynomial.Polynomial(estimated_coeffs[::-1]).roots().astype(np.float64)\n",
    "\n",
    "        return roots\n",
    "\n",
    "    def _marginal__cumulants(self, roots, j=0, i=1):\n",
    "        \"\"\"\n",
    "        Estimate the marginal cumulants for the specified nodes.\n",
    "\n",
    "        Parameters:\n",
    "        j (int): The index of the first node.\n",
    "        i (int): The index of the second node.\n",
    "\n",
    "        Returns:\n",
    "        numpy.ndarray: The estimated marginal cumulants.\n",
    "        \"\"\"\n",
    "        source, other_node = j, i\n",
    "        l = self.highest_l  # The number of latent variables confounding 1 and 2\n",
    "        # For k < l+1, the marginal omega cannot be inferred.\n",
    "        k = l +1\n",
    "        B_tilde = [roots ** i for i in range(k)]\n",
    "        symbols_to_cumulants = self._form_symbol_to_cumulant_dict(self.cumulants, [i, j], scale_partly=False)\n",
    "        y = np.array(\n",
    "            [\n",
    "                float(symbols_to_cumulants[symbols(f\"c_{''.join(sorted((str(source),) * (k - i) + (str(other_node),) * i))}\")])\n",
    "                for i in range(k)\n",
    "            ]\n",
    "        )\n",
    "        try:\n",
    "            marginal_omegas = np.linalg.lstsq(B_tilde, y, rcond=None)[0]\n",
    "        except np.linalg.LinAlgError:\n",
    "            raise MathError(f\"Linear system for {k}th order omega for source {source} and test node {other_node} is singular.\")\n",
    "        return marginal_omegas\n",
    "\n",
    "    def _match_marginals(self, marginal_omegas_10, marginal_omegas_20):\n",
    "        \"\"\"\n",
    "        Match the marginal cumulants of the two nodes.\n",
    "\n",
    "        Parameters:\n",
    "        marginal_omegas_10 (numpy.ndarray): The marginal cumulants of node 1.\n",
    "        marginal_omegas_20 (numpy.ndarray): The marginal cumulants of node 2.\n",
    "\n",
    "        Returns:\n",
    "        list: The matching indices for the marginal cumulants.\n",
    "        \"\"\"\n",
    "        if marginal_omegas_10.shape[0] != marginal_omegas_20.shape[0]:\n",
    "            raise ValueError(\"The number of rows of the marginal omegas must be the same.\")\n",
    "        # if marginal_omegas_10.shape[1] != marginal_omegas_20.shape[1]:\n",
    "        #     raise ValueError(\"The number of columns of the marginal omegas must be the same.\")\n",
    "        min_dist = np.inf\n",
    "        for i in permutations(range(marginal_omegas_10.shape[0])):\n",
    "            dist = np.sum(np.abs((marginal_omegas_10 - marginal_omegas_20[list(i)])))\n",
    "            if dist < min_dist:\n",
    "                min_dist = dist\n",
    "                match = i\n",
    "        return np.array(match)"
   ]
  },
  {
   "cell_type": "code",
   "execution_count": 4,
   "metadata": {},
   "outputs": [],
   "source": [
    "X, true_B = simulate_data(1000, noise_distribution='gamma', Lambda=Lambda, Gamma=Gamma, permute_order=False)\n",
    "causal_effect_true = true_B[2, 1]"
   ]
  },
  {
   "cell_type": "code",
   "execution_count": 5,
   "metadata": {},
   "outputs": [
    {
     "name": "stderr",
     "output_type": "stream",
     "text": [
      "/var/folders/nd/nn8th6r16cq6sytrzw1nw_9w0000gn/T/ipykernel_21193/2069213220.py:72: ComplexWarning: Casting complex values to real discards the imaginary part\n",
      "  roots = np.polynomial.Polynomial(estimated_coeffs[::-1]).roots().astype(np.float64)\n"
     ]
    },
    {
     "data": {
      "text/plain": [
       "-0.3150206983646026"
      ]
     },
     "execution_count": 5,
     "metadata": {},
     "output_type": "execute_result"
    }
   ],
   "source": [
    "# Perform the experiment\n",
    "causal_effect_estimate = []\n",
    "\n",
    "X_sample = np.asfortranarray(X)\n",
    "X_sample = X_sample - np.mean(X_sample, axis=0)\n",
    "\n",
    "model = CMLiNGAM(X_sample, highest_l=highest_l)\n",
    "model.estimate_effect()"
   ]
  },
  {
   "cell_type": "code",
   "execution_count": 16,
   "metadata": {},
   "outputs": [],
   "source": [
    "Z, T, Y = X_sample[:,0], X_sample[:,1], X_sample[:,2]"
   ]
  },
  {
   "cell_type": "code",
   "execution_count": 21,
   "metadata": {},
   "outputs": [
    {
     "data": {
      "text/plain": [
       "(1000, 3)"
      ]
     },
     "execution_count": 21,
     "metadata": {},
     "output_type": "execute_result"
    }
   ],
   "source": [
    "np.vstack((T, Y, Z)).T.shape"
   ]
  },
  {
   "cell_type": "code",
   "execution_count": 6,
   "metadata": {},
   "outputs": [
    {
     "data": {
      "text/plain": [
       "(array([ 0.        , -2.75176708, -2.75176708]),\n",
       " array([-0.3150207 , -0.77603481, -1.09916981]),\n",
       " array([0.        , 2.49767468, 2.49767468]))"
      ]
     },
     "execution_count": 6,
     "metadata": {},
     "output_type": "execute_result"
    }
   ],
   "source": [
    "model.roots_20, model.roots_21, model.roots_10"
   ]
  },
  {
   "cell_type": "code",
   "execution_count": 7,
   "metadata": {},
   "outputs": [
    {
     "data": {
      "text/plain": [
       "array([[ 1.        ,  0.        ,  0.        ,  1.        ,  1.        ],\n",
       "       [ 0.        ,  1.        ,  0.        ,  0.84642661,  0.        ],\n",
       "       [ 0.        , -0.8201708 ,  1.        , -1.34090874,  0.        ]])"
      ]
     },
     "execution_count": 7,
     "metadata": {},
     "output_type": "execute_result"
    }
   ],
   "source": [
    "true_B"
   ]
  },
  {
   "cell_type": "code",
   "execution_count": 8,
   "metadata": {},
   "outputs": [
    {
     "name": "stderr",
     "output_type": "stream",
     "text": [
      "/var/folders/nd/nn8th6r16cq6sytrzw1nw_9w0000gn/T/ipykernel_21193/2069213220.py:72: ComplexWarning: Casting complex values to real discards the imaginary part\n",
      "  roots = np.polynomial.Polynomial(estimated_coeffs[::-1]).roots().astype(np.float64)\n"
     ]
    },
    {
     "data": {
      "text/plain": [
       "-0.3150206983646026"
      ]
     },
     "execution_count": 8,
     "metadata": {},
     "output_type": "execute_result"
    }
   ],
   "source": [
    "# Perform the experiment\n",
    "causal_effect_estimate = []\n",
    "\n",
    "X_sample = np.asfortranarray(X)\n",
    "X_sample = X_sample - np.mean(X_sample, axis=0)\n",
    "\n",
    "model = CMLiNGAM(X_sample, highest_l=highest_l)\n",
    "model.estimate_effect()\n"
   ]
  },
  {
   "cell_type": "code",
   "execution_count": 9,
   "metadata": {},
   "outputs": [
    {
     "data": {
      "text/plain": [
       "(array([0.        , 2.49767468, 2.49767468]),\n",
       " array([ 0.        , -2.75176708, -2.75176708]),\n",
       " array([-0.3150207 , -0.77603481, -1.09916981]))"
      ]
     },
     "execution_count": 9,
     "metadata": {},
     "output_type": "execute_result"
    }
   ],
   "source": [
    "model.roots_10, model.roots_20, model.roots_21"
   ]
  },
  {
   "cell_type": "code",
   "execution_count": 10,
   "metadata": {},
   "outputs": [
    {
     "data": {
      "text/plain": [
       "array([[ 1.        ,  0.        ,  0.        ,  1.        ,  1.        ],\n",
       "       [ 0.        ,  1.        ,  0.        ,  0.84642661,  0.        ],\n",
       "       [ 0.        , -0.8201708 ,  1.        , -1.34090874,  0.        ]])"
      ]
     },
     "execution_count": 10,
     "metadata": {},
     "output_type": "execute_result"
    }
   ],
   "source": [
    "true_B"
   ]
  },
  {
   "cell_type": "code",
   "execution_count": 11,
   "metadata": {},
   "outputs": [
    {
     "name": "stdout",
     "output_type": "stream",
     "text": [
      "Using 12 processes\n"
     ]
    },
    {
     "name": "stderr",
     "output_type": "stream",
     "text": [
      "/var/folders/nd/nn8th6r16cq6sytrzw1nw_9w0000gn/T/ipykernel_21193/2069213220.py:72: ComplexWarning: Casting complex values to real discards the imaginary part\n",
      "  roots = np.polynomial.Polynomial(estimated_coeffs[::-1]).roots().astype(np.float64)\n"
     ]
    }
   ],
   "source": [
    "import concurrent.futures\n",
    "\n",
    "reps = 20\n",
    "seeds_df = []\n",
    "parameter_sets = list(range(reps))\n",
    "\n",
    "def run_experiment(seed):\n",
    "    # run the experiment using the given parameters\n",
    "    # Set the random seed\n",
    "    noise_distribution = 'gamma'\n",
    "    samples_sizes = [1e1, 1e2, 1e3, 1e4, 1e5, 1e6, 1e7]\n",
    "    n_max = int(max(samples_sizes))\n",
    "    # p, q = Lambda.shape[0], Lambda.shape[1]+Gamma.shape[1]\n",
    "\n",
    "    np.random.seed(seed)\n",
    "    X, true_B = simulate_data(n_max, noise_distribution=noise_distribution, Lambda=Lambda, Gamma=Gamma, permute_order=False)\n",
    "    causal_effect_true = true_B[2, 1]\n",
    "\n",
    "    # Perform the experiment\n",
    "    causal_effect_estimate = []\n",
    "\n",
    "    for n in samples_sizes:\n",
    "        X_sample = X[:int(n), :]\n",
    "        X_sample = np.asfortranarray(X_sample)\n",
    "        X_sample = X_sample - np.mean(X_sample, axis=0)\n",
    "\n",
    "        model = CMLiNGAM(X_sample, highest_l=highest_l)\n",
    "        causal_effect_estimate.append(model.estimate_effect())\n",
    "\n",
    "    # Create a DataFrame for the current seed\n",
    "    seed_df = pd.DataFrame({\n",
    "        'Seed': [seed] * len(samples_sizes),\n",
    "        'Sample Size': samples_sizes,\n",
    "        'True Effect': [causal_effect_true] * len(samples_sizes),\n",
    "        'Effect Estimate': causal_effect_estimate,\n",
    "    })\n",
    "    return seed_df\n",
    "\n",
    "\n",
    "\n",
    "# create a thread pool executor\n",
    "with concurrent.futures.ThreadPoolExecutor() as executor:\n",
    "    # submit each experiment to the executor\n",
    "    print(f\"Using {executor._max_workers} processes\")\n",
    "    futures = [executor.submit(run_experiment, params) for params in parameter_sets]\n",
    "\n",
    "    # wait for all experiments to complete and store the results\n",
    "    for future in concurrent.futures.as_completed(futures):\n",
    "        seeds_df.append(future.result())\n",
    "\n",
    "# process the results as needed\n",
    "results_df = pd.concat(seeds_df, ignore_index=True)"
   ]
  },
  {
   "cell_type": "code",
   "execution_count": 12,
   "metadata": {},
   "outputs": [
    {
     "data": {
      "image/png": "[encoded data removed]",
      "text/plain": [
       "<Figure size 640x480 with 1 Axes>"
      ]
     },
     "metadata": {},
     "output_type": "display_data"
    }
   ],
   "source": [
    "import matplotlib.pyplot as plt\n",
    "\n",
    "results_df[\"Error\"] = np.abs((results_df['Effect Estimate'] - results_df[\"True Effect\"])/results_df[\"True Effect\"])  # Calculate the error\n",
    "\n",
    "\n",
    "# Group the results by sample size and calculate the mean\n",
    "mean_results = results_df.groupby('Sample Size').median()\n",
    "mean_sd = results_df.groupby('Sample Size').std()\n",
    "\n",
    "# Plot the mean results\n",
    "plt.yscale('log')\n",
    "plt.xscale('log')\n",
    "plt.plot(mean_results.index, mean_results[\"Error\"],\n",
    "         label='Error',\n",
    "         color = \"blue\")\n",
    "\n",
    "\n",
    "\n",
    "plt.xlabel('Sample Size')\n",
    "plt.ylabel('Causal Effect Error (LOG-scale)')\n",
    "plt.legend()\n",
    "plt.title('Mean Causal Effect Estimate with Standard Deviation for Varying Sample Size')\n",
    "plt.show()"
   ]
  },
  {
   "cell_type": "code",
   "execution_count": null,
   "metadata": {},
   "outputs": [],
   "source": []
  }
 ],
 "metadata": {
  "kernelspec": {
   "display_name": "Python 3",
   "language": "python",
   "name": "python3"
  },
  "language_info": {
   "codemirror_mode": {
    "name": "ipython",
    "version": 3
   },
   "file_extension": ".py",
   "mimetype": "text/x-python",
   "name": "python",
   "nbconvert_exporter": "python",
   "pygments_lexer": "ipython3",
   "version": "3.11.9"
  }
 },
 "nbformat": 4,
 "nbformat_minor": 2
}
