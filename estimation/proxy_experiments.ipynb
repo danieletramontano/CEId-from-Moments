{
 "cells": [
  {
   "cell_type": "code",
   "execution_count": 2,
   "metadata": {},
   "outputs": [],
   "source": [
    "from sympy import *\n",
    "import numpy as np\n",
    "import pandas as pd\n",
    "\n",
    "from other_models.direct_lingam.simulate_data import get_Lambda\n",
    "from other_models.direct_lingam.DAG import plot_dag\n",
    "from helpers.models import CM, ICM\n",
    "from helpers.experiments_utils import wrapper, SimulationSettings"
   ]
  },
  {
   "cell_type": "markdown",
   "metadata": {},
   "source": [
    "# One Latent No Edge"
   ]
  },
  {
   "cell_type": "code",
   "execution_count": null,
   "metadata": {},
   "outputs": [],
   "source": [
    "adjacency_obs = get_Lambda([(2, 1)], 3)\n",
    "print(f\"Lambda is \\n {adjacency_obs}\")\n",
    "adjacency_latent = np.array([[1], [1], [1]])\n",
    "print(f\"Gamma is \\n {adjacency_latent}\")\n",
    "highest_l = 1\n",
    "plot_dag(np.hstack((adjacency_obs, adjacency_latent))) # Latent nodes are grey\n"
   ]
  },
  {
   "cell_type": "code",
   "execution_count": null,
   "metadata": {},
   "outputs": [],
   "source": [
    "settings = SimulationSettings(\n",
    "    highest_l=highest_l,\n",
    "    adjacency_obs=adjacency_obs,\n",
    "    adjacency_latent=adjacency_latent,\n",
    "    noise_distribution='gamma'\n",
    ")\n",
    "\n",
    "df = wrapper(100,\n",
    "        settings = settings,\n",
    "        model_class = CM,\n",
    "        methods = ['Cumulant', 'Cross Moment', 'Relvlingam', 'GRICA'])\n",
    "\n",
    "df.to_csv('Results/gamma_proxy_no_edge_1_latent.csv')"
   ]
  },
  {
   "cell_type": "code",
   "execution_count": null,
   "metadata": {},
   "outputs": [],
   "source": [
    "settings.noise_distribution = 'beta'\n",
    "\n",
    "df = wrapper(100,\n",
    "        settings = settings,\n",
    "        model_class = CM,\n",
    "        methods = ['Cumulant', 'Cross Moment','Relvlingam', 'GRICA'])\n",
    "\n",
    "df.to_csv('Results/beta_proxy_no_edge_1_latent.csv')"
   ]
  },
  {
   "cell_type": "markdown",
   "metadata": {},
   "source": [
    "# Two Latents  No Edge"
   ]
  },
  {
   "cell_type": "code",
   "execution_count": null,
   "metadata": {},
   "outputs": [],
   "source": [
    "adjacency_obs = get_Lambda([(2, 1)], 3)\n",
    "print(f\"Lambda is \\n {adjacency_obs}\")\n",
    "adjacency_latent = np.array([[1, 1], [1, 1], [1, 1]])\n",
    "print(f\"Gamma is \\n {adjacency_latent}\")\n",
    "highest_l = 2\n",
    "plot_dag(np.hstack((adjacency_obs, adjacency_latent))) # Latent nodes are grey"
   ]
  },
  {
   "cell_type": "code",
   "execution_count": null,
   "metadata": {},
   "outputs": [],
   "source": [
    "settings = SimulationSettings(\n",
    "    highest_l=highest_l,\n",
    "    adjacency_obs=adjacency_obs,\n",
    "    adjacency_latent=adjacency_latent,\n",
    "    noise_distribution='gamma'\n",
    ")\n",
    "\n",
    "df = wrapper(100,\n",
    "        settings = settings,\n",
    "        model_class = CM,\n",
    "        methods = ['Cumulant', 'Cross Moment', 'Relvlingam', 'GRICA'])\n",
    "\n",
    "df.to_csv('Results/gamma_proxy_no_edge_2_latents.csv')"
   ]
  },
  {
   "cell_type": "code",
   "execution_count": null,
   "metadata": {},
   "outputs": [],
   "source": [
    "settings.noise_distribution = 'beta'\n",
    "\n",
    "df = wrapper(100,\n",
    "        settings = settings,\n",
    "        model_class = CM,\n",
    "        methods = ['Cumulant', 'Cross Moment', 'Relvlingam', 'GRICA'])\n",
    "\n",
    "df.to_csv('Results/gamma_proxy_no_edge_2_latents.csv')"
   ]
  },
  {
   "cell_type": "markdown",
   "metadata": {},
   "source": [
    "# One Latent with Edge"
   ]
  },
  {
   "cell_type": "code",
   "execution_count": null,
   "metadata": {},
   "outputs": [],
   "source": [
    "adjacency_obs = get_Lambda([(1,0), (2, 1)], 3)\n",
    "print(f\"Lambda is \\n {adjacency_obs}\")\n",
    "adjacency_latent = np.array([[1], [1], [1]])\n",
    "highest_l = 1\n",
    "plot_dag(np.hstack((adjacency_obs, adjacency_latent))) # Latent nodes are grey"
   ]
  },
  {
   "cell_type": "code",
   "execution_count": null,
   "metadata": {},
   "outputs": [],
   "source": [
    "settings = SimulationSettings(\n",
    "    highest_l=highest_l,\n",
    "    adjacency_obs=adjacency_obs,\n",
    "    adjacency_latent=adjacency_latent,\n",
    "    noise_distribution='gamma'\n",
    ")\n",
    "\n",
    "df = wrapper(100,\n",
    "        settings = settings,\n",
    "        model_class = ICM,\n",
    "        methods = ['Cumulant', 'Cumulant Minimization', 'Cross Moment', 'Relvlingam', 'GRICA'])\n",
    "\n",
    "\n",
    "df.to_csv('Results/gamma_proxy_with_edge_1_latent.csv')"
   ]
  },
  {
   "cell_type": "code",
   "execution_count": null,
   "metadata": {},
   "outputs": [],
   "source": [
    "settings.noise_distribution = 'beta'\n",
    "df = wrapper(100,\n",
    "        settings = settings,\n",
    "        model_class = ICM,\n",
    "        methods = ['Cumulant', 'Cumulant Minimization', 'Cross Moment', 'Relvlingam', 'GRICA'])\n",
    "\n",
    "\n",
    "df.to_csv('Results/beta_proxy_with_edge_1_latent.csv')"
   ]
  },
  {
   "cell_type": "markdown",
   "metadata": {},
   "source": [
    "# Two Latents with Edge"
   ]
  },
  {
   "cell_type": "code",
   "execution_count": null,
   "metadata": {},
   "outputs": [],
   "source": [
    "adjacency_obs = get_Lambda([(1,0), (2, 1)], 3)\n",
    "print(f\"Lambda is \\n {adjacency_obs}\")\n",
    "adjacency_latent = np.array([[1, 1], [1, 1], [1, 1]])\n",
    "highest_l = 2\n",
    "plot_dag(np.hstack((adjacency_obs, adjacency_latent))) # Latent nodes are grey"
   ]
  },
  {
   "cell_type": "code",
   "execution_count": null,
   "metadata": {},
   "outputs": [],
   "source": [
    "settings = SimulationSettings(\n",
    "    highest_l=highest_l,\n",
    "    adjacency_obs=adjacency_obs,\n",
    "    adjacency_latent=adjacency_latent,\n",
    "    noise_distribution='gamma'\n",
    ")\n",
    "\n",
    "df = wrapper(100,\n",
    "        settings = settings,\n",
    "        model_class = ICM,\n",
    "        methods = ['Cumulant', 'Cross Moment', 'Relvlingam', 'GRICA'])\n",
    "\n",
    "df.to_csv('Results/gamma_proxy_with_edge_2_latent.csv')"
   ]
  },
  {
   "cell_type": "code",
   "execution_count": null,
   "metadata": {},
   "outputs": [],
   "source": [
    "settings.noise_distribution = 'beta'\n",
    "\n",
    "df = wrapper(100,\n",
    "        settings = settings,\n",
    "        model_class = ICM,\n",
    "        methods = ['Cumulant', 'Cross Moment', 'Relvlingam', 'GRICA'])\n",
    "\n",
    "df.to_csv('Results/beta_proxy_with_edge_2_latent.csv')"
   ]
  }
 ],
 "metadata": {
  "kernelspec": {
   "display_name": "Python 3",
   "language": "python",
   "name": "python3"
  },
  "language_info": {
   "codemirror_mode": {
    "name": "ipython",
    "version": 3
   },
   "file_extension": ".py",
   "mimetype": "text/x-python",
   "name": "python",
   "nbconvert_exporter": "python",
   "pygments_lexer": "ipython3",
   "version": "3.11.9"
  }
 },
 "nbformat": 4,
 "nbformat_minor": 2
}
