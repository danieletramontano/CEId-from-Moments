{
 "cells": [
  {
   "cell_type": "code",
   "execution_count": 1,
   "metadata": {},
   "outputs": [],
   "source": [
    "%load_ext autoreload\n",
    "%autoreload 2\n",
    "\n",
    "# from helpers.experiments_utils import wrapper\n",
    "from sympy import *\n",
    "import numpy as np\n",
    "import pandas as pd\n",
    "\n",
    "from other_models.direct_lingam.simulate_data import get_Lambda\n",
    "from other_models.direct_lingam.DAG import plot_dag\n",
    "from helpers.models import IV\n",
    "from helpers.experiments_utils import wrapper, SimulationSettings"
   ]
  },
  {
   "cell_type": "markdown",
   "metadata": {},
   "source": [
    "# Real Data Cleaning"
   ]
  },
  {
   "cell_type": "code",
   "execution_count": 2,
   "metadata": {},
   "outputs": [],
   "source": [
    "import os\n",
    "from sklearn.linear_model import LinearRegression\n",
    "from helpers.models import CM, ICM"
   ]
  },
  {
   "cell_type": "code",
   "execution_count": 3,
   "metadata": {},
   "outputs": [],
   "source": [
    "col_names = [\n",
    "    \"ID\", \"CHAIN\", \"CO_OWNED\", \"STATE\",\n",
    "    \"SOUTHJ\", \"CENTRALJ\", \"NORTHJ\", \"PA1\",\n",
    "    \"PA2\", \"SHORE\",\n",
    "    \"NCALLS\", \"EMPFT\", \"EMPPT\", \"NMGRS\",\n",
    "    \"WAGE_ST\", \"INCTIME\", \"FIRSTINC\",\n",
    "    \"BONUS\", \"PCTAFF\", \"MEALS\", \"OPEN\",\n",
    "    \"HRSOPEN\", \"PSODA\", \"PFRY\", \"PENTREE\",\n",
    "    \"NREGS\", \"NREGS11\",\n",
    "    \"TYPE2\", \"STATUS2\", \"DATE2\", \"NCALLS2\",\n",
    "    \"EMPFT2\", \"EMPPT2\", \"NMGRS2\", \"WAGE_ST2\",\n",
    "    \"INCTIME2\", \"FIRSTIN2\", \"SPECIAL2\", \"MEALS2\",\n",
    "    \"OPEN2R\", \"HRSOPEN2\", \"PSODA2\", \"PFRY2\",\n",
    "    \"PENTREE2\", \"NREGS2\", \"NREGS112\"\n",
    "]\n",
    "\n",
    "col_names_pre = [\n",
    "    \"ID\", \"CHAIN\", \"CO_OWNED\", \"STATE\",\n",
    "    \"SOUTHJ\", \"CENTRALJ\", \"NORTHJ\", \"PA1\",\n",
    "    \"PA2\", \"SHORE\",\n",
    "    \"EMPFT\", \"EMPPT\",\n",
    "    \"WAGE_ST\", \"INCTIME\", \"FIRSTINC\",\n",
    "    \"OPEN\", \"HRSOPEN\", \"PSODA\", \"PFRY\",\n",
    "    \"PENTREE\"\n",
    "]\n",
    "\n",
    "col_names_post = [\n",
    "    \"ID\", \"CHAIN\", \"CO_OWNED\", \"STATE\",\n",
    "    \"SOUTHJ\", \"CENTRALJ\", \"NORTHJ\", \"PA1\",\n",
    "    \"PA2\", \"SHORE\",\n",
    "    \"EMPFT2\", \"EMPPT2\",\n",
    "    \"WAGE_ST2\", \"INCTIME2\", \"FIRSTIN2\",\n",
    "    \"OPEN2R\", \"HRSOPEN2\", \"PSODA2\", \"PFRY2\",\n",
    "    \"PENTREE2\"\n",
    "]"
   ]
  },
  {
   "cell_type": "code",
   "execution_count": 4,
   "metadata": {},
   "outputs": [
    {
     "name": "stderr",
     "output_type": "stream",
     "text": [
      "/var/folders/nd/nn8th6r16cq6sytrzw1nw_9w0000gn/T/ipykernel_925/60473316.py:3: FutureWarning: The 'delim_whitespace' keyword in pd.read_table is deprecated and will be removed in a future version. Use ``sep='\\s+'`` instead\n",
      "  df = pd.read_table(file_path, delim_whitespace=True, names=col_names, na_values='.')\n"
     ]
    }
   ],
   "source": [
    "file = \"njmin/public.dat\"\n",
    "file_path = os.path.join(os.getcwd(), file)\n",
    "df = pd.read_table(file_path, delim_whitespace=True, names=col_names, na_values='.')"
   ]
  },
  {
   "cell_type": "code",
   "execution_count": 5,
   "metadata": {},
   "outputs": [],
   "source": [
    "data_pre = df[col_names_pre].copy()\n",
    "data_post = df[col_names_post].copy()\n",
    "data_post.columns = data_pre.columns\n",
    "rate = 0.5\n",
    "\n",
    "tmp = len(data_pre)*[0.]\n",
    "data_pre.insert(1, \"Treatment\", tmp)\n",
    "data_pre[\"Empl\"] = data_pre[\"EMPFT\"] + data_pre[\"EMPPT\"]*rate\n",
    "\n",
    "tmp = len(data_post)*[1.]\n",
    "data_post.insert(1, \"Treatment\", tmp)\n",
    "data_post[\"Empl\"] = data_post[\"EMPFT\"] + data_post[\"EMPPT\"]*rate\n",
    "\n",
    "data_pre[\"PostTreatment\"] = data_pre[\"STATE\"]*data_pre[\"Treatment\"]\n",
    "data_post[\"PostTreatment\"] = data_post[\"STATE\"]*data_post[\"Treatment\"]\n",
    "\n",
    "mask = data_post[\"Empl\"]==0\n",
    "mask = ~mask\n",
    "data_pre = data_pre[mask]\n",
    "data_post = data_post[mask]"
   ]
  },
  {
   "cell_type": "code",
   "execution_count": 6,
   "metadata": {},
   "outputs": [],
   "source": [
    "data_pre_new = data_pre.drop([\"ID\", \"CHAIN\", \"EMPFT\", \"EMPPT\"], axis=1)\n",
    "data_post_new = data_post.drop([\"ID\", \"CHAIN\", \"EMPFT\", \"EMPPT\"], axis=1)\n",
    "mask = data_pre_new.isnull().any(axis=1) | data_post_new.isnull().any(axis=1)\n",
    "mask = ~mask\n",
    "\n",
    "data_pre_new = data_pre_new[mask]\n",
    "data_post_new = data_post_new[mask]"
   ]
  },
  {
   "cell_type": "markdown",
   "metadata": {},
   "source": [
    "## Results"
   ]
  },
  {
   "cell_type": "code",
   "execution_count": null,
   "metadata": {},
   "outputs": [
    {
     "name": "stdout",
     "output_type": "stream",
     "text": [
      "Beta estimated by TWFE:  2.6843899743729382\n"
     ]
    }
   ],
   "source": [
    "from joblib import Parallel, delayed\n",
    "data = pd.concat([data_pre_new, data_post_new], ignore_index=True)\n",
    "X = data.drop([\"Empl\"], axis=1).to_numpy()\n",
    "Y = data[\"Empl\"].to_numpy()\n",
    "\n",
    "reg = LinearRegression().fit(X, Y)\n",
    "reg.score(X, Y)\n",
    "beta = reg.coef_[-1]\n",
    "print(\"Beta estimated by TWFE: \", beta)"
   ]
  },
  {
   "cell_type": "code",
   "execution_count": 14,
   "metadata": {},
   "outputs": [],
   "source": [
    "reg = LinearRegression().fit(X, Y)\n",
    "Z = data_pre_new[\"Empl\"].to_numpy() - np.matmul(X[:len(data_pre_new), :-1], reg.coef_[:-1])\n",
    "X_new = data_pre_new[\"STATE\"].to_numpy(dtype=np.float32)\n",
    "Y = data_post_new[\"Empl\"].to_numpy() - np.matmul(X[len(data_pre_new):, :-1], reg.coef_[:-1])\n",
    "\n",
    "Z -= np.mean(Z)\n",
    "X_new -= np.mean(X_new)\n",
    "Y -= np.mean(Y)\n",
    "\n",
    "# High-order method below"
   ]
  },
  {
   "cell_type": "code",
   "execution_count": 15,
   "metadata": {},
   "outputs": [
    {
     "name": "stdout",
     "output_type": "stream",
     "text": [
      "Estimate: 2.6843899743731168\n",
      "Estimate cross moment: 2.6843899743729405\n",
      "Estimate grica: 1.9745572805404663\n"
     ]
    }
   ],
   "source": [
    "highest_l = 1\n",
    "data_zxy = np.vstack([Z, X_new, Y]).transpose()\n",
    "model = CM(data_zxy, highest_l=highest_l)\n",
    "estimate = model.estimate_effect()\n",
    "estimate_cross_moment = model.estimate_effect_cross_moment()\n",
    "estimate_grica = model.estimate_effect_grica()\n",
    "print(\"Estimate:\", estimate)\n",
    "print(\"Estimate cross moment:\", estimate_cross_moment)\n",
    "print(\"Estimate grica:\", estimate_grica)"
   ]
  },
  {
   "cell_type": "code",
   "execution_count": 18,
   "metadata": {},
   "outputs": [
    {
     "name": "stdout",
     "output_type": "stream",
     "text": [
      "Estimate: 2.719978435502854\n",
      "Estimate cross moment: 2.6843899743729405\n",
      "Estimate grica: 4.167938709259033\n"
     ]
    }
   ],
   "source": [
    "highest_l = 2\n",
    "data_zxy = np.vstack([Z, X_new, Y]).transpose()\n",
    "model = CM(data_zxy, highest_l=highest_l)\n",
    "estimate = model.estimate_effect()\n",
    "estimate_cross_moment = model.estimate_effect_cross_moment()\n",
    "estimate_grica = model.estimate_effect_grica()\n",
    "print(\"Estimate:\", estimate)\n",
    "print(\"Estimate cross moment:\", estimate_cross_moment)\n",
    "print(\"Estimate grica:\", estimate_grica)"
   ]
  },
  {
   "cell_type": "code",
   "execution_count": 19,
   "metadata": {},
   "outputs": [
    {
     "name": "stdout",
     "output_type": "stream",
     "text": [
      "Estimate: 8.26289653667604\n",
      "Estimate cross moment: 2.6843899743729405\n",
      "Estimate effect minimization: 9.406543873074266\n",
      "Estimate grica: 2.854421615600586\n"
     ]
    }
   ],
   "source": [
    "highest_l = 1\n",
    "data_zxy = np.vstack([Z, X_new, Y]).transpose()\n",
    "model = ICM(data_zxy, highest_l=highest_l)\n",
    "estimate = model.estimate_effect()\n",
    "estimate_cross_moment = model.estimate_effect_cross_moment()\n",
    "estimate_effect_minimization = model.estimate_effect_minimization()\n",
    "estimate_grica = model.estimate_effect_grica()\n",
    "print(\"Estimate:\", estimate)\n",
    "print(\"Estimate cross moment:\", estimate_cross_moment)\n",
    "print(\"Estimate effect minimization:\", estimate_effect_minimization)\n",
    "print(\"Estimate grica:\", estimate_grica)"
   ]
  },
  {
   "cell_type": "code",
   "execution_count": 21,
   "metadata": {},
   "outputs": [
    {
     "name": "stdout",
     "output_type": "stream",
     "text": [
      "Estimate: 3.008679290461188\n",
      "Estimate grica: 3.508751392364502\n"
     ]
    }
   ],
   "source": [
    "highest_l = 2\n",
    "data_zxy = np.vstack([Z, X_new, Y]).transpose()\n",
    "model = ICM(data_zxy, highest_l=highest_l)\n",
    "estimate = model.estimate_effect()\n",
    "estimate_grica = model.estimate_effect_grica()\n",
    "print(\"Estimate:\", estimate)\n",
    "print(\"Estimate grica:\", estimate_grica)"
   ]
  }
 ],
 "metadata": {
  "kernelspec": {
   "display_name": "Python 3",
   "language": "python",
   "name": "python3"
  },
  "language_info": {
   "codemirror_mode": {
    "name": "ipython",
    "version": 3
   },
   "file_extension": ".py",
   "mimetype": "text/x-python",
   "name": "python",
   "nbconvert_exporter": "python",
   "pygments_lexer": "ipython3",
   "version": "3.11.9"
  }
 },
 "nbformat": 4,
 "nbformat_minor": 2
}
