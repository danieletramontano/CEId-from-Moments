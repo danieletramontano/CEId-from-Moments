{
 "cells": [
  {
   "cell_type": "code",
   "execution_count": 1,
   "metadata": {},
   "outputs": [],
   "source": [
    "# from helpers.experiments_utils import wrapper\n",
    "from sympy import *\n",
    "import numpy as np\n",
    "import pandas as pd\n",
    "\n",
    "from other_models.direct_lingam.simulate_data import get_Lambda\n",
    "from other_models.direct_lingam.DAG import plot_dag\n",
    "from helpers.models import IV\n",
    "from helpers.experiments_utils import wrapper, SimulationSettings"
   ]
  },
  {
   "cell_type": "code",
   "execution_count": null,
   "metadata": {},
   "outputs": [],
   "source": [
    "adjacency_obs = get_Lambda([(1,0), (2,0), (3, 1), (3, 2)], 4)\n",
    "print(f\"Lambda is \\n {adjacency_obs}\")\n",
    "adjacency_latent = np.array([[0, 0], [0, 1], [1, 0], [1, 1]])\n",
    "highest_l = 1\n",
    "adjacency = np.hstack((adjacency_obs, adjacency_latent))\n",
    "plot_dag(adjacency) # Latent nodes are grey"
   ]
  },
  {
   "cell_type": "markdown",
   "metadata": {},
   "source": [
    "# Gamma"
   ]
  },
  {
   "cell_type": "code",
   "execution_count": null,
   "metadata": {},
   "outputs": [],
   "source": [
    "settings = SimulationSettings(\n",
    "    highest_l=highest_l,\n",
    "    adjacency_obs=adjacency_obs,\n",
    "    adjacency_latent=adjacency_latent,\n",
    "    noise_distribution='gamma'\n",
    ")\n",
    "\n",
    "df = wrapper(100,\n",
    "        settings = settings,\n",
    "        model_class = IV,\n",
    "        methods = ['Cumulant', 'Min Norm', 'Relvlingam', 'GRICA'],\n",
    "        location_interest=((3, 1), (3, 2)))\n",
    "\n",
    "df.to_csv('results/gamma_IV.csv')"
   ]
  },
  {
   "cell_type": "markdown",
   "metadata": {},
   "source": [
    "# Beta"
   ]
  },
  {
   "cell_type": "code",
   "execution_count": null,
   "metadata": {},
   "outputs": [],
   "source": [
    "settings.noise_distribution = 'beta'\n",
    "\n",
    "df = wrapper(100,\n",
    "        settings = settings,\n",
    "        model_class = IV,\n",
    "        methods = ['Cumulant', 'Min Norm', 'Relvlingam', 'GRICA'],\n",
    "        location_interest=((3, 1), (3, 2)))\n",
    "\n",
    "df.to_csv('results/beta_IV.csv')"
   ]
  }
 ],
 "metadata": {
  "kernelspec": {
   "display_name": "Python 3",
   "language": "python",
   "name": "python3"
  },
  "language_info": {
   "codemirror_mode": {
    "name": "ipython",
    "version": 3
   },
   "file_extension": ".py",
   "mimetype": "text/x-python",
   "name": "python",
   "nbconvert_exporter": "python",
   "pygments_lexer": "ipython3",
   "version": "3.11.9"
  }
 },
 "nbformat": 4,
 "nbformat_minor": 2
}
