{
 "cells": [
  {
   "cell_type": "code",
   "execution_count": 13,
   "metadata": {},
   "outputs": [
    {
     "data": {
      "text/plain": [
       "(None, None)"
      ]
     },
     "execution_count": 13,
     "metadata": {},
     "output_type": "execute_result"
    }
   ],
   "source": [
    "from sympy import *\n",
    "import numpy as np\n",
    " \n",
    "from direct_lingam.ReLVLiNGAM import *\n",
    "from direct_lingam.simulate_data import *\n",
    "from direct_lingam.DAG import plot_dag\n",
    "import pyximport; pyximport.install(inplace=True)"
   ]
  },
  {
   "cell_type": "markdown",
   "metadata": {},
   "source": [
    "Define adjacency"
   ]
  },
  {
   "cell_type": "code",
   "execution_count": 14,
   "metadata": {},
   "outputs": [
    {
     "name": "stdout",
     "output_type": "stream",
     "text": [
      "Lambda is \n",
      " [[0 0 0]\n",
      " [1 0 0]\n",
      " [0 1 0]]\n"
     ]
    },
    {
     "data": {
      "image/png": "[encoded data removed]",
      "text/plain": [
       "<Figure size 400x300 with 1 Axes>"
      ]
     },
     "metadata": {},
     "output_type": "display_data"
    }
   ],
   "source": [
    "Lambda = get_Lambda([(1,0), (2, 1)], 3)\n",
    "print(f\"Lambda is \\n {Lambda}\")\n",
    "Gamma = np.array([[1], [1], [1]])\n",
    "highest_l = 1\n",
    "plot_dag(np.hstack((Lambda, Gamma))) # Latent nodes are grey"
   ]
  },
  {
   "cell_type": "markdown",
   "metadata": {},
   "source": [
    "Find path matrix"
   ]
  },
  {
   "cell_type": "code",
   "execution_count": 15,
   "metadata": {},
   "outputs": [
    {
     "name": "stdout",
     "output_type": "stream",
     "text": [
      "true_B is \n",
      " [[ 1.    0.    0.    1.  ]\n",
      " [ 0.54  1.    0.   -0.21]\n",
      " [-0.39 -0.72  1.    1.04]]\n"
     ]
    },
    {
     "data": {
      "text/plain": [
       "[array([[ 1.  ,  0.  ,  0.  ,  1.  ,  0.  ],\n",
       "        [-0.2 ,  1.  ,  0.  ,  0.55,  1.  ],\n",
       "        [-0.4 , -3.23,  1.  ,  1.01,  0.06]]),\n",
       " array([[ 1.  ,  0.  ,  0.  ,  1.  ,  0.  ],\n",
       "        [ 0.55,  1.  ,  0.  , -0.2 ,  1.  ],\n",
       "        [ 1.01, -3.23,  1.  , -0.4 ,  0.06]]),\n",
       " array([[ 1.  ,  0.  ,  0.  ,  1.  ,  0.  ],\n",
       "        [-0.2 ,  1.  ,  0.  ,  0.55,  1.  ],\n",
       "        [-0.4 ,  0.06,  1.  ,  1.01, -3.23]]),\n",
       " array([[ 1.  ,  0.  ,  0.  ,  1.  ,  0.  ],\n",
       "        [ 0.55,  1.  ,  0.  , -0.2 ,  1.  ],\n",
       "        [ 1.01,  0.06,  1.  , -0.4 , -3.23]])]"
      ]
     },
     "execution_count": 15,
     "metadata": {},
     "output_type": "execute_result"
    }
   ],
   "source": [
    "np.set_printoptions(precision=2)\n",
    "np.random.seed(2021)\n",
    "noise_distribution = 'gamma'\n",
    "n = 1000000\n",
    "p, q = Lambda.shape[0], Lambda.shape[1]+Gamma.shape[1]\n",
    "\n",
    "X, true_B = simulate_data(n, noise_distribution=noise_distribution, Lambda=Lambda, Gamma=Gamma, permute_order=False)\n",
    "print(f\"true_B is \\n {true_B}\")\n",
    "relvlingam = ReLVLiNGAM(X, highest_l)\n",
    "relvlingam.fit(X) \n",
    "B_hat = relvlingam.B\n",
    "all_possible_permutations = relvlingam.get_all_possible_permutations()\n",
    "all_Bs = [B_hat[:,perm] for perm in all_possible_permutations]\n",
    "all_Bs"
   ]
  },
  {
   "cell_type": "code",
   "execution_count": 16,
   "metadata": {},
   "outputs": [
    {
     "data": {
      "text/plain": [
       "array([[ 0.02, -0.05,  0.05],\n",
       "       [-0.01,  0.04, -0.11],\n",
       "       [-0.07,  0.  , -0.24],\n",
       "       ...,\n",
       "       [-0.28,  0.04, -0.25],\n",
       "       [ 0.4 , -0.23,  0.57],\n",
       "       [-0.23, -0.15, -0.04]])"
      ]
     },
     "execution_count": 16,
     "metadata": {},
     "output_type": "execute_result"
    }
   ],
   "source": [
    "X"
   ]
  },
  {
   "cell_type": "markdown",
   "metadata": {},
   "source": [
    "Equations for b_21 or b_31"
   ]
  },
  {
   "cell_type": "code",
   "execution_count": 17,
   "metadata": {},
   "outputs": [
    {
     "data": {
      "text/latex": [
       "$\\displaystyle \\operatorname{Poly}{\\left( \\left(- c_{ijj} c_{jjjj} + c_{ijjj} c_{jjj}\\right) b_{ij}^{2} + \\left(c_{iij} c_{jjjj} - c_{iijj} c_{jjj}\\right) b_{ij} -  c_{iij} c_{ijjj} + c_{iijj} c_{ijj}, b_{ij}, domain=\\mathbb{Z}\\left[c_{iij}, c_{iijj}, c_{ijj}, c_{ijjj}, c_{jjj}, c_{jjjj}\\right] \\right)}$"
      ],
      "text/plain": [
       "Poly((-c_ijj*c_jjjj + c_ijjj*c_jjj)*b_ij**2 + (c_iij*c_jjjj - c_iijj*c_jjj)*b_ij - c_iij*c_ijjj + c_iijj*c_ijj, b_ij, domain='ZZ[c_iij,c_iijj,c_ijj,c_ijjj,c_jjj,c_jjjj]')"
      ]
     },
     "metadata": {},
     "output_type": "display_data"
    },
    {
     "data": {
      "text/latex": [
       "$\\displaystyle \\operatorname{Poly}{\\left( \\left(c_{iijj} c_{jjj} - c_{ijj} c_{ijjj}\\right) b_{ij}^{2} + \\left(- c_{iiij} c_{jjj} + c_{iij} c_{ijjj}\\right) b_{ij} + c_{iiij} c_{ijj} - c_{iij} c_{iijj}, b_{ij}, domain=\\mathbb{Z}\\left[c_{iiij}, c_{iij}, c_{iijj}, c_{ijj}, c_{ijjj}, c_{jjj}\\right] \\right)}$"
      ],
      "text/plain": [
       "Poly((c_iijj*c_jjj - c_ijj*c_ijjj)*b_ij**2 + (-c_iiij*c_jjj + c_iij*c_ijjj)*b_ij + c_iiij*c_ijj - c_iij*c_iijj, b_ij, domain='ZZ[c_iiij,c_iij,c_iijj,c_ijj,c_ijjj,c_jjj]')"
      ]
     },
     "metadata": {},
     "output_type": "display_data"
    },
    {
     "data": {
      "text/latex": [
       "$\\displaystyle \\operatorname{Poly}{\\left( \\left(c_{iijj} c_{jjjj} - c_{ijjj}^{2}\\right) b_{ij}^{2} + \\left(- c_{iiij} c_{jjjj} + c_{iijj} c_{ijjj}\\right) b_{ij} + c_{iiij} c_{ijjj} - c_{iijj}^{2}, b_{ij}, domain=\\mathbb{Z}\\left[c_{iiij}, c_{iijj}, c_{ijjj}, c_{jjjj}\\right] \\right)}$"
      ],
      "text/plain": [
       "Poly((c_iijj*c_jjjj - c_ijjj**2)*b_ij**2 + (-c_iiij*c_jjjj + c_iijj*c_ijjj)*b_ij + c_iiij*c_ijjj - c_iijj**2, b_ij, domain='ZZ[c_iiij,c_iijj,c_ijjj,c_jjjj]')"
      ]
     },
     "metadata": {},
     "output_type": "display_data"
    },
    {
     "name": "stdout",
     "output_type": "stream",
     "text": [
      "-5.31e-06 - (1.99e-05)·x + (5.37e-05)·x²\n"
     ]
    },
    {
     "data": {
      "text/plain": [
       "array([-0.18,  0.55])"
      ]
     },
     "execution_count": 17,
     "metadata": {},
     "output_type": "execute_result"
    }
   ],
   "source": [
    "from direct_lingam.constraints_to_test import get_constraints_for_l_latents\n",
    "equations_bij = get_constraints_for_l_latents(1)['equations_bij']\n",
    "for eq in equations_bij:\n",
    "    display(eq)\n",
    "\n",
    "eq = equations_bij[0]\n",
    "i, j = 1, 0\n",
    "specify_nodes = {sym: symbols(sym.name[:2] + \"\".join(sorted(sym.name[2:].replace(\"j\", str(j)).replace(\"i\", str(i))))) for sym in reduce(set.union, [eq.free_symbols for eq in equations_bij]) if str(sym) != \"b_ij\"}\n",
    "cumulants = relvlingam._estimate_cumulants(X)\n",
    "symbols_to_cumulants = relvlingam._form_symbol_to_cumulant_dict(cumulants, [i, j], scale_partly=False) # Scaling would be used for finding the source, for effect estimation we must not scale\n",
    "estimated_coeffs = [float(coeff.subs(specify_nodes).subs(symbols_to_cumulants)) for coeff in eq.all_coeffs()]\n",
    "# A numpy polynomial has the opposite order of coefficients to sympy: Numpy starts with the lowest power, \n",
    "# Sympy with the highest. Therefore, reverse the coefficients.\n",
    "poly_10 = np.polynomial.Polynomial(estimated_coeffs[::-1])\n",
    "print(poly_10)\n",
    "roots_10 = poly_10.roots()\n",
    "roots_10"
   ]
  },
  {
   "cell_type": "code",
   "execution_count": 18,
   "metadata": {},
   "outputs": [
    {
     "data": {
      "text/latex": [
       "$\\displaystyle \\operatorname{Poly}{\\left( \\left(- c_{ijj} c_{jjjj} + c_{ijjj} c_{jjj}\\right) b_{ij}^{2} + \\left(c_{iij} c_{jjjj} - c_{iijj} c_{jjj}\\right) b_{ij} -  c_{iij} c_{ijjj} + c_{iijj} c_{ijj}, b_{ij}, domain=\\mathbb{Z}\\left[c_{iij}, c_{iijj}, c_{ijj}, c_{ijjj}, c_{jjj}, c_{jjjj}\\right] \\right)}$"
      ],
      "text/plain": [
       "Poly((-c_ijj*c_jjjj + c_ijjj*c_jjj)*b_ij**2 + (c_iij*c_jjjj - c_iijj*c_jjj)*b_ij - c_iij*c_ijjj + c_iijj*c_ijj, b_ij, domain='ZZ[c_iij,c_iijj,c_ijj,c_ijjj,c_jjj,c_jjjj]')"
      ]
     },
     "metadata": {},
     "output_type": "display_data"
    },
    {
     "data": {
      "text/latex": [
       "$\\displaystyle \\operatorname{Poly}{\\left( \\left(c_{iijj} c_{jjj} - c_{ijj} c_{ijjj}\\right) b_{ij}^{2} + \\left(- c_{iiij} c_{jjj} + c_{iij} c_{ijjj}\\right) b_{ij} + c_{iiij} c_{ijj} - c_{iij} c_{iijj}, b_{ij}, domain=\\mathbb{Z}\\left[c_{iiij}, c_{iij}, c_{iijj}, c_{ijj}, c_{ijjj}, c_{jjj}\\right] \\right)}$"
      ],
      "text/plain": [
       "Poly((c_iijj*c_jjj - c_ijj*c_ijjj)*b_ij**2 + (-c_iiij*c_jjj + c_iij*c_ijjj)*b_ij + c_iiij*c_ijj - c_iij*c_iijj, b_ij, domain='ZZ[c_iiij,c_iij,c_iijj,c_ijj,c_ijjj,c_jjj]')"
      ]
     },
     "metadata": {},
     "output_type": "display_data"
    },
    {
     "data": {
      "text/latex": [
       "$\\displaystyle \\operatorname{Poly}{\\left( \\left(c_{iijj} c_{jjjj} - c_{ijjj}^{2}\\right) b_{ij}^{2} + \\left(- c_{iiij} c_{jjjj} + c_{iijj} c_{ijjj}\\right) b_{ij} + c_{iiij} c_{ijjj} - c_{iijj}^{2}, b_{ij}, domain=\\mathbb{Z}\\left[c_{iiij}, c_{iijj}, c_{ijjj}, c_{jjjj}\\right] \\right)}$"
      ],
      "text/plain": [
       "Poly((c_iijj*c_jjjj - c_ijjj**2)*b_ij**2 + (-c_iiij*c_jjjj + c_iijj*c_ijjj)*b_ij + c_iiij*c_ijjj - c_iijj**2, b_ij, domain='ZZ[c_iiij,c_iijj,c_ijjj,c_jjjj]')"
      ]
     },
     "metadata": {},
     "output_type": "display_data"
    },
    {
     "name": "stdout",
     "output_type": "stream",
     "text": [
      "4.13e-05 + (5.84e-05)·x - (1.02e-04)·x²\n"
     ]
    },
    {
     "data": {
      "text/plain": [
       "array([-0.41,  0.98])"
      ]
     },
     "execution_count": 18,
     "metadata": {},
     "output_type": "execute_result"
    }
   ],
   "source": [
    "from direct_lingam.constraints_to_test import get_constraints_for_l_latents\n",
    "equations_bij = get_constraints_for_l_latents(1)['equations_bij']\n",
    "for eq in equations_bij:\n",
    "    display(eq)\n",
    "\n",
    "eq = equations_bij[0]\n",
    "i, j = 2, 0\n",
    "specify_nodes = {sym: symbols(sym.name[:2] + \"\".join(sorted(sym.name[2:].replace(\"j\", str(j)).replace(\"i\", str(i))))) for sym in reduce(set.union, [eq.free_symbols for eq in equations_bij]) if str(sym) != \"b_ij\"}\n",
    "cumulants = relvlingam._estimate_cumulants(X)\n",
    "symbols_to_cumulants = relvlingam._form_symbol_to_cumulant_dict(cumulants, [i, j], scale_partly=False) # Scaling would be used for finding the source, for effect estimation we must not scale\n",
    "estimated_coeffs = [float(coeff.subs(specify_nodes).subs(symbols_to_cumulants)) for coeff in eq.all_coeffs()]\n",
    "# A numpy polynomial has the opposite order of coefficients to sympy: Numpy starts with the lowest power, \n",
    "# Sympy with the highest. Therefore, reverse the coefficients.\n",
    "poly_20 = np.polynomial.Polynomial(estimated_coeffs[::-1])\n",
    "print(poly_20)\n",
    "roots_20 = poly_20.roots()\n",
    "roots_20"
   ]
  },
  {
   "cell_type": "markdown",
   "metadata": {},
   "source": [
    "Estimate cumulants"
   ]
  },
  {
   "cell_type": "code",
   "execution_count": 19,
   "metadata": {},
   "outputs": [
    {
     "data": {
      "text/plain": [
       "array([[0.03, 0.01, 0.01],\n",
       "       [0.06, 0.04, 0.04]])"
      ]
     },
     "execution_count": 19,
     "metadata": {},
     "output_type": "execute_result"
    }
   ],
   "source": [
    "j, i = 0, 1\n",
    "source, other_node = j, i\n",
    "l = 1 # The number of latent variables confounding 1 and 2\n",
    "highest_order = 4 # Order up to which to estimate cumulants\n",
    "marginal_omegas_10 = np.full((l+1, highest_order-1), np.nan)\n",
    "# For k < l+1, the marginal omega cannot be infered.\n",
    "for k in range(l+1, highest_order+1):\n",
    "    B_tilde = [roots_10**i for i in range(k)]\n",
    "    symbols_to_cumulants = relvlingam._form_symbol_to_cumulant_dict(cumulants, [i, j], scale_partly=False)\n",
    "    y = np.array([float(symbols_to_cumulants[symbols(f\"c_{''.join(sorted((str(source),)*(k - i) + (str(other_node),)*i))}\")]) for i in range(k)])\n",
    "    try:\n",
    "        marginal_omegas_10[:,k-2] = np.linalg.lstsq(B_tilde, y, rcond=None)[0]\n",
    "    except np.linalg.LinAlgError:\n",
    "        raise MathError(f\"Linear system for {k}th order omega for source {source} and test node {other_node} is singular.\")\n",
    "    \n",
    "marginal_omegas_10 # Each column corresponfs to one order, each row to one exogeneous source, i.e. epsilon_1, L_1, ..., L_l"
   ]
  },
  {
   "cell_type": "code",
   "execution_count": 20,
   "metadata": {},
   "outputs": [
    {
     "data": {
      "text/plain": [
       "array([[0.06, 0.04, 0.04],\n",
       "       [0.03, 0.01, 0.01]])"
      ]
     },
     "execution_count": 20,
     "metadata": {},
     "output_type": "execute_result"
    }
   ],
   "source": [
    "j, i = 0, 2\n",
    "source, other_node = j, i\n",
    "l = 1 # The number of latent variables confounding 1 and 2\n",
    "highest_order = 4 # Order up to which to estimate cumulants\n",
    "marginal_omegas_20 = np.full((l+1, highest_order-1), np.nan)\n",
    "# For k < l+1, the marginal omega cannot be infered.\n",
    "for k in range(l+1, highest_order+1):\n",
    "    B_tilde = [roots_20**i for i in range(k)]\n",
    "    symbols_to_cumulants = relvlingam._form_symbol_to_cumulant_dict(cumulants, [i, j], scale_partly=False)\n",
    "    y = np.array([float(symbols_to_cumulants[symbols(f\"c_{''.join(sorted((str(source),)*(k - i) + (str(other_node),)*i))}\")]) for i in range(k)])\n",
    "    try:\n",
    "        marginal_omegas_20[:,k-2] = np.linalg.lstsq(B_tilde, y, rcond=None)[0]\n",
    "    except np.linalg.LinAlgError:\n",
    "        raise MathError(f\"Linear system for {k}th order omega for source {source} and test node {other_node} is singular.\")\n",
    "    \n",
    "marginal_omegas_20 # Each column corresponfs to one order, each row to one exogeneous source, i.e. epsilon_1, L_1, ..., L_l"
   ]
  },
  {
   "cell_type": "code",
   "execution_count": 21,
   "metadata": {},
   "outputs": [],
   "source": [
    "def match_marginals(marginal_omegas_10, marginal_omegas_20):\n",
    "    if marginal_omegas_10.shape[0] != marginal_omegas_20.shape[0]:\n",
    "        raise ValueError(\"The number of rows of the marginal omegas must be the same.\")\n",
    "    if marginal_omegas_10.shape[1] != marginal_omegas_20.shape[1]:\n",
    "        raise ValueError(\"The number of columns of the marginal omegas must be the same.\")\n",
    "    l = marginal_omegas_10.shape[0]-1\n",
    "    match_1, match_2 = [[0, 0], [1, 1]],  [[0, 1], [1, 0]]\n",
    "    dist_1 = np.sum(np.abs((marginal_omegas_10 - marginal_omegas_20)))\n",
    "    dist_2 = np.sum(np.abs((marginal_omegas_10 - marginal_omegas_20[[1, 0]])))\n",
    "    print(f\"dist_1 is {dist_1}\")\n",
    "    print(f\"dist_2 is {dist_2}\")\n",
    "    if dist_1 < dist_2:\n",
    "        return match_1\n",
    "    else:\n",
    "        return match_2"
   ]
  },
  {
   "cell_type": "code",
   "execution_count": 22,
   "metadata": {},
   "outputs": [
    {
     "name": "stdout",
     "output_type": "stream",
     "text": [
      "dist_1 is 0.18755939800043736\n",
      "dist_2 is 0.000570773341094467\n",
      "[-0.17979859351371413, 0.9829736432557381]\n",
      "[0.55029552036536, -0.4114093405988498]\n"
     ]
    }
   ],
   "source": [
    "match = match_marginals(marginal_omegas_10, marginal_omegas_20)\n",
    "root_pairs = [[roots_10[match[0][0]], roots_20[match[0][1]]], [roots_10[match[1][0]], roots_20[match[1][1]]]]\n",
    "print(root_pairs[0])\n",
    "print(root_pairs[1])"
   ]
  },
  {
   "cell_type": "code",
   "execution_count": 43,
   "metadata": {},
   "outputs": [],
   "source": [
    "cov_matrix = cumulants.get(2)"
   ]
  },
  {
   "cell_type": "markdown",
   "metadata": {},
   "source": []
  },
  {
   "cell_type": "code",
   "execution_count": null,
   "metadata": {},
   "outputs": [],
   "source": []
  }
 ],
 "metadata": {
  "kernelspec": {
   "display_name": "LiNGAM",
   "language": "python",
   "name": "python3"
  },
  "language_info": {
   "codemirror_mode": {
    "name": "ipython",
    "version": 3
   },
   "file_extension": ".py",
   "mimetype": "text/x-python",
   "name": "python",
   "nbconvert_exporter": "python",
   "pygments_lexer": "ipython3",
   "version": "3.11.9"
  }
 },
 "nbformat": 4,
 "nbformat_minor": 2
}
